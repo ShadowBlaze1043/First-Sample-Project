{
 "cells": [
  {
   "cell_type": "code",
   "execution_count": null,
   "id": "f91c91a9",
   "metadata": {},
   "outputs": [],
   "source": [
    "def quick_sort(arr):\n",
    "    if len(arr) <= 1:\n",
    "        return arr\n",
    "    pivot = arr[0]\n",
    "    left = [x for x in arr[1:] if x < pivot]\n",
    "    right = [x for x in arr[1:] if x >= pivot]\n",
    "    return quick_sort(left) + [pivot] + quick_sort(right)\n",
    "\n",
    "# Example usage\n",
    "sample_list = [12, 7, 5, 3, 8, 4, 2, 15, 10, 6, 1, 9, 13, 11, 14]\n",
    "sorted_list = quick_sort(sample_list)\n",
    "print(sorted_list)\n",
    "# To run this code interactively, you can use a Jupyter notebook.\n",
    "# If you are using VS Code, switch to the Jupyter extension by opening the Command Palette (Ctrl+Shift+P) and selecting \"Jupyter: Create New Blank Notebook\".\n",
    "# Then, copy and paste the code cells into the notebook for interactive execution.\n",
    "\"\"\"\n",
    "    Sorts a list of elements using the Quick Sort algorithm.\n",
    "\n",
    "    Args:\n",
    "        arr (list): The list of elements to be sorted.\n",
    "\n",
    "    Returns:\n",
    "        list: A new list containing the sorted elements.\n",
    "\n",
    "    Example:\n",
    "        >>> quick_sort([3, 1, 2])\n",
    "        [1, 2, 3]\n",
    "\n",
    "    Note:\n",
    "        Quick Sort is a divide-and-conquer algorithm that selects a 'pivot' element and partitions the array into two sub-arrays, according to whether elements are less than or greater than the pivot.\n",
    "\n",
    "    \"\"\"\n",
    "    # Time Complexity:\n",
    "    # Average case: O(n log n)\n",
    "    # Worst case: O(n^2) (when the smallest or largest element is always chosen as the pivot)\n",
    "    # Space Complexity:\n",
    "    # O(log n) due to recursive stack space in the average case\n",
    "    # O(n) in the worst case due to partitioning\n",
    "    # Stability: Quick Sort is not a stable sort.   "
   ]
  },
  {
   "cell_type": "code",
   "execution_count": 1,
   "id": "a656c075",
   "metadata": {},
   "outputs": [
    {
     "name": "stdout",
     "output_type": "stream",
     "text": [
      "[2, 3, 5, 7, 11, 13, 17, 19, 23, 29, 31, 37, 41, 43, 47, 53, 59, 61, 67, 71, 73, 79, 83, 89, 97]\n"
     ]
    }
   ],
   "source": [
    "def is_prime(n):\n",
    "    if n <= 1:\n",
    "        return False\n",
    "    if n <= 3:\n",
    "        return True\n",
    "    if n % 2 == 0 or n % 3 == 0:\n",
    "        return False\n",
    "    i = 5\n",
    "    while i * i <= n:\n",
    "        if n % i == 0 or n % (i + 2) == 0:\n",
    "            return False\n",
    "        i += 6\n",
    "    return True\n",
    "\n",
    "# Example usage\n",
    "primes = [x for x in range(2, 101) if is_prime(x)]\n",
    "print(primes)"
   ]
  }
 ],
 "metadata": {
  "kernelspec": {
   "display_name": "Python 3",
   "language": "python",
   "name": "python3"
  },
  "language_info": {
   "codemirror_mode": {
    "name": "ipython",
    "version": 3
   },
   "file_extension": ".py",
   "mimetype": "text/x-python",
   "name": "python",
   "nbconvert_exporter": "python",
   "pygments_lexer": "ipython3",
   "version": "3.12.1"
  }
 },
 "nbformat": 4,
 "nbformat_minor": 5
}
